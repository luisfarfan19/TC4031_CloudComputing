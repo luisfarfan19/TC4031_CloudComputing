{
  "nbformat": 4,
  "nbformat_minor": 0,
  "metadata": {
    "colab": {
      "provenance": []
    },
    "kernelspec": {
      "name": "python3",
      "display_name": "Python 3"
    },
    "language_info": {
      "name": "python"
    }
  },
  "cells": [
    {
      "cell_type": "markdown",
      "source": [
        "Luis Miguel Farfan Lara\n",
        "A01360268\n",
        "Jueves 7 Marzo de 2024\n",
        "\n",
        "El siguiente programa utiliza la libreria de google-cloud-translate que toma una frase en algun idioma por medio de la funcion detect_language y la convierte al español por medio de la funcion translate y el parametro 'es'."
      ],
      "metadata": {
        "id": "yThWUAGUOMjW"
      }
    },
    {
      "cell_type": "code",
      "execution_count": null,
      "metadata": {
        "id": "CZhwk1hYNAPf"
      },
      "outputs": [],
      "source": [
        "!pip install google-cloud-translate"
      ]
    },
    {
      "cell_type": "code",
      "source": [
        "from google.cloud import translate_v2 as translate\n",
        "import os, json\n",
        "\n",
        "os.environ['GOOGLE_APPLICATION_CREDENTIALS'] = 'credentials.json'\n",
        "\n",
        "translateClient = translate.Client()\n",
        "\n",
        "#Detectar el idioma en el que está escrito un texto determinado.\n",
        "#El valor de confianza es un valor de punto flotante opcional entre 0 y 1. Cuanto más cerca esté este valor de 1, mayor será el nivel de confianza para la detección del idioma.\n",
        "detectedRes = translateClient.detect_language('Fantastik arbeid')\n",
        "print(detectedRes)\n",
        "\n",
        "#Para traducir texto al idioma de destino predeterminado sin conocer el idioma de origen\n",
        "transRes = translateClient.translate('Fantastik arbeid', 'es')\n",
        "print(transRes)\n",
        "\n",
        "res1 = translateClient.translate('Awesome job in english', 'es')\n",
        "print(\"Ingles: \" , res1['translatedText'])\n",
        "\n",
        "res2 = translateClient.translate('Kiváló magyar nyelvű munka', 'es')\n",
        "print(\"Hungaro: \" , res2['translatedText'])\n",
        "\n",
        "res3 = translateClient.translate('Ausgezeichnete Arbeit auf Deutsch', 'es')\n",
        "print(\"Aleman: \" , res3['translatedText'])\n",
        "\n",
        "res4 = translateClient.translate('Excel·lent treball en català', 'es')\n",
        "print(\"Catalan: \" , res4['translatedText'])\n",
        "\n",
        "res4 = translateClient.translate('Excelente trabalho em português', 'es')\n",
        "print(\"Portugues: \" , res4['translatedText'])"
      ],
      "metadata": {
        "colab": {
          "base_uri": "https://localhost:8080/"
        },
        "id": "gaHJAxRdNZ7w",
        "outputId": "1d94605d-852a-41f2-f652-f85d92a0e7f6"
      },
      "execution_count": null,
      "outputs": [
        {
          "output_type": "stream",
          "name": "stdout",
          "text": [
            "{'confidence': 0.9790573120117188, 'language': 'no', 'input': 'Fantastik arbeid'}\n",
            "{'translatedText': 'trabajo fantástico', 'detectedSourceLanguage': 'no', 'input': 'Fantastik arbeid'}\n",
            "Ingles:  Impresionante trabajo en ingles.\n",
            "Hungaro:  Excelente trabajo en húngaro.\n",
            "Aleman:  Excelente trabajo en alemán.\n",
            "Catalan:  Excelente trabajo en catalán\n",
            "Portugues:  Excelente trabajo en portugués.\n"
          ]
        }
      ]
    }
  ]
}