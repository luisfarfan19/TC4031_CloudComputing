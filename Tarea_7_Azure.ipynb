{
  "nbformat": 4,
  "nbformat_minor": 0,
  "metadata": {
    "colab": {
      "provenance": []
    },
    "kernelspec": {
      "name": "python3",
      "display_name": "Python 3"
    },
    "language_info": {
      "name": "python"
    }
  },
  "cells": [
    {
      "cell_type": "code",
      "execution_count": null,
      "metadata": {
        "colab": {
          "base_uri": "https://localhost:8080/"
        },
        "id": "bW5epCEYVYom",
        "outputId": "1434318b-e6ae-4ab7-9461-1bf43e953a22"
      },
      "outputs": [
        {
          "output_type": "stream",
          "name": "stdout",
          "text": [
            "[{\"faceRectangle\": {\"top\": 127, \"left\": 788, \"width\": 100, \"height\": 100}}, {\"faceRectangle\": {\"top\": 158, \"left\": 532, \"width\": 96, \"height\": 96}}, {\"faceRectangle\": {\"top\": 136, \"left\": 1024, \"width\": 89, \"height\": 89}}]\n"
          ]
        }
      ],
      "source": [
        "import json, os, requests\n",
        "\n",
        "#Setteamos los valores necesarios para ejecutar el api de face detect de azure\n",
        "subscription_key = 'cf5d2d7e246e4f68a30bbe8023c10bae'\n",
        "face_api_url = 'https://facerecognitionmna24luisf.cognitiveservices.azure.com' + \"/face/v1.0/detect\"\n",
        "image_url = 'https://img2.rtve.es/i/?w=1600&i=1629965212358.jpg'\n",
        "headers = {'Ocp-Apim-Subscription-Key': subscription_key}\n",
        "params = {\n",
        "    'returnFaceId': 'false',\n",
        "    'returnFaceLandmarks': 'false'\n",
        "}\n",
        "\n",
        "# Realiza la solicitud POST al endpoint de face detect e imprimos los valores.\n",
        "response = requests.post(face_api_url, params=params, headers=headers, json={\"url\": image_url})\n",
        "print(json.dumps(response.json()))\n"
      ]
    },
    {
      "cell_type": "code",
      "source": [
        "import json, os, requests\n",
        "\n",
        "subscription_key = '21dbc93b22ba4f67ad81ed99df6aaac1'\n",
        "endpoint = 'https://facerecognitionmna24luisf.cognitiveservices.azure.com' + \"/vision/v3.1/ocr\"\n",
        "image_url = 'https://i.stack.imgur.com/6Kdo8.png'\n",
        "headers = {\n",
        "    \"Ocp-Apim-Subscription-Key\": subscription_key,\n",
        "    \"Content-Type\": \"application/json\"\n",
        "}\n",
        "data = {\n",
        "    \"url\": image_url\n",
        "}\n",
        "\n",
        "# Realiza la solicitud POST al endpoint de OCR\n",
        "response = requests.post(endpoint, headers=headers, json=data)\n",
        "\n",
        "# Verifica si la solicitud fue exitosa\n",
        "if response.status_code == 200:\n",
        "    extracted_text = response.json()\n",
        "    data = response.json()\n",
        "    for region in data['regions']:\n",
        "     for line in region['lines']:\n",
        "        for word in line['words']:\n",
        "            print(word['text'], end=\"  \")\n",
        "        print('')\n",
        "    print('')\n",
        "    print('')\n",
        "    print(\"Texto extraido:\", extracted_text)\n",
        "else:\n",
        "    print(\"Error:\", response.status_code, response.text)"
      ],
      "metadata": {
        "colab": {
          "base_uri": "https://localhost:8080/"
        },
        "id": "BpQr18OiHQ2p",
        "outputId": "e0e5dadc-f27a-4ffc-8f87-0011eece3944"
      },
      "execution_count": null,
      "outputs": [
        {
          "output_type": "stream",
          "name": "stdout",
          "text": [
            "Hello,  here  is  some  text  without  a  meaning.  This  text  should  show  what  a  \n",
            "printed  text  will  look  like  at  this  place.  If  you  read  this  text,  you  will  get  no  \n",
            "information.  Really?  Is  there  no  information?  Is  there  a  difference  between  \n",
            "this  text  and  some  nonsense  like  Huardest  gefburn?  Kjift  —  not  at  all!  A  blind  \n",
            "text  like  this  gives  you  information  about  the  selected  font,  how  the  letters  are  \n",
            "written  and  an  impression  of  the  look.  \n",
            "Hello,  here  is  some  text  without  a  meaning.  This  text  should  show  what  a  \n",
            "printed  text  will  look  like  at  this  place.  If  you  read  this  text,  you  will  get  no  \n",
            "information.  Really?  Is  there  no  information?  Is  there  a  difference  between  \n",
            "this  text  and  some  nonsense  like  Huardest  gefburn?  Kjift  —  not  at  all!  A  blind  \n",
            "text  like  this  gives  you  information  about  the  selected  font,  how  the  letters  are  \n",
            "written  and  an  impression  of  the  look.  \n",
            "\n",
            "\n",
            "Texto extraido: {'language': 'en', 'textAngle': 0.0, 'orientation': 'Up', 'regions': [{'boundingBox': '9,5,505,216', 'lines': [{'boundingBox': '9,5,505,14', 'words': [{'boundingBox': '9,5,36,14', 'text': 'Hello,'}, {'boundingBox': '53,5,27,11', 'text': 'here'}, {'boundingBox': '87,6,9,10', 'text': 'is'}, {'boundingBox': '103,9,32,7', 'text': 'some'}, {'boundingBox': '142,7,25,9', 'text': 'text'}, {'boundingBox': '174,5,49,11', 'text': 'without'}, {'boundingBox': '231,9,7,7', 'text': 'a'}, {'boundingBox': '245,6,56,13', 'text': 'meaning.'}, {'boundingBox': '314,5,28,11', 'text': 'This'}, {'boundingBox': '349,7,25,9', 'text': 'text'}, {'boundingBox': '381,5,42,11', 'text': 'should'}, {'boundingBox': '430,5,31,11', 'text': 'show'}, {'boundingBox': '468,5,31,11', 'text': 'what'}, {'boundingBox': '506,9,8,7', 'text': 'a'}]}, {'boundingBox': '9,23,504,14', 'words': [{'boundingBox': '9,23,46,14', 'text': 'printed'}, {'boundingBox': '61,25,25,9', 'text': 'text'}, {'boundingBox': '92,23,23,11', 'text': 'will'}, {'boundingBox': '121,23,26,11', 'text': 'look'}, {'boundingBox': '153,23,22,11', 'text': 'like'}, {'boundingBox': '181,25,12,9', 'text': 'at'}, {'boundingBox': '199,23,24,11', 'text': 'this'}, {'boundingBox': '229,23,35,14', 'text': 'place.'}, {'boundingBox': '274,23,11,11', 'text': 'If'}, {'boundingBox': '289,27,23,10', 'text': 'you'}, {'boundingBox': '318,23,27,11', 'text': 'read'}, {'boundingBox': '351,23,24,11', 'text': 'this'}, {'boundingBox': '380,25,29,12', 'text': 'text,'}, {'boundingBox': '416,27,23,10', 'text': 'you'}, {'boundingBox': '444,23,23,11', 'text': 'will'}, {'boundingBox': '473,25,19,12', 'text': 'get'}, {'boundingBox': '498,27,15,7', 'text': 'no'}]}, {'boundingBox': '9,40,505,14', 'words': [{'boundingBox': '9,40,77,11', 'text': 'information.'}, {'boundingBox': '98,40,47,14', 'text': 'Really?'}, {'boundingBox': '156,40,11,11', 'text': 'Is'}, {'boundingBox': '173,40,33,11', 'text': 'there'}, {'boundingBox': '212,44,15,7', 'text': 'no'}, {'boundingBox': '234,40,80,11', 'text': 'information?'}, {'boundingBox': '326,40,10,11', 'text': 'Is'}, {'boundingBox': '343,40,32,11', 'text': 'there'}, {'boundingBox': '382,44,7,7', 'text': 'a'}, {'boundingBox': '395,40,60,11', 'text': 'difference'}, {'boundingBox': '462,40,52,11', 'text': 'between'}]}, {'boundingBox': '9,58,504,14', 'words': [{'boundingBox': '9,58,24,11', 'text': 'this'}, {'boundingBox': '38,60,25,9', 'text': 'text'}, {'boundingBox': '69,58,23,11', 'text': 'and'}, {'boundingBox': '97,62,32,7', 'text': 'some'}, {'boundingBox': '134,62,56,7', 'text': 'nonsense'}, {'boundingBox': '196,58,21,11', 'text': 'like'}, {'boundingBox': '223,58,57,11', 'text': 'Huardest'}, {'boundingBox': '286,58,54,14', 'text': 'gefburn?'}, {'boundingBox': '346,58,30,14', 'text': 'Kjift'}, {'boundingBox': '381,64,8,2', 'text': '—'}, {'boundingBox': '394,60,21,9', 'text': 'not'}, {'boundingBox': '420,60,13,9', 'text': 'at'}, {'boundingBox': '438,58,19,11', 'text': 'all!'}, {'boundingBox': '465,58,11,11', 'text': 'A'}, {'boundingBox': '481,58,32,11', 'text': 'blind'}]}, {'boundingBox': '9,75,504,14', 'words': [{'boundingBox': '9,77,25,9', 'text': 'text'}, {'boundingBox': '40,75,21,11', 'text': 'like'}, {'boundingBox': '66,75,24,11', 'text': 'this'}, {'boundingBox': '95,76,31,13', 'text': 'gives'}, {'boundingBox': '131,79,23,10', 'text': 'you'}, {'boundingBox': '159,75,74,11', 'text': 'information'}, {'boundingBox': '238,75,36,11', 'text': 'about'}, {'boundingBox': '280,75,20,11', 'text': 'the'}, {'boundingBox': '305,75,49,11', 'text': 'selected'}, {'boundingBox': '359,75,29,14', 'text': 'font,'}, {'boundingBox': '394,75,25,11', 'text': 'how'}, {'boundingBox': '424,75,20,11', 'text': 'the'}, {'boundingBox': '449,75,40,11', 'text': 'letters'}, {'boundingBox': '494,79,19,7', 'text': 'are'}]}, {'boundingBox': '9,93,244,14', 'words': [{'boundingBox': '9,94,47,10', 'text': 'written'}, {'boundingBox': '61,93,23,11', 'text': 'and'}, {'boundingBox': '89,97,15,7', 'text': 'an'}, {'boundingBox': '109,94,68,13', 'text': 'impression'}, {'boundingBox': '181,93,13,11', 'text': 'of'}, {'boundingBox': '198,93,20,11', 'text': 'the'}, {'boundingBox': '223,93,30,11', 'text': 'look.'}]}, {'boundingBox': '9,119,505,14', 'words': [{'boundingBox': '9,119,36,14', 'text': 'Hello,'}, {'boundingBox': '53,119,27,11', 'text': 'here'}, {'boundingBox': '87,120,9,10', 'text': 'is'}, {'boundingBox': '103,123,32,7', 'text': 'some'}, {'boundingBox': '142,121,25,9', 'text': 'text'}, {'boundingBox': '174,119,49,11', 'text': 'without'}, {'boundingBox': '231,123,7,7', 'text': 'a'}, {'boundingBox': '245,120,56,13', 'text': 'meaning.'}, {'boundingBox': '314,119,28,11', 'text': 'This'}, {'boundingBox': '349,120,25,10', 'text': 'text'}, {'boundingBox': '381,119,42,11', 'text': 'should'}, {'boundingBox': '430,119,31,11', 'text': 'show'}, {'boundingBox': '468,119,31,11', 'text': 'what'}, {'boundingBox': '506,123,8,7', 'text': 'a'}]}, {'boundingBox': '9,137,504,14', 'words': [{'boundingBox': '9,137,46,14', 'text': 'printed'}, {'boundingBox': '61,139,25,9', 'text': 'text'}, {'boundingBox': '92,137,23,11', 'text': 'will'}, {'boundingBox': '121,137,26,11', 'text': 'look'}, {'boundingBox': '153,137,22,11', 'text': 'like'}, {'boundingBox': '181,139,12,9', 'text': 'at'}, {'boundingBox': '199,137,24,11', 'text': 'this'}, {'boundingBox': '229,137,35,14', 'text': 'place.'}, {'boundingBox': '274,137,11,11', 'text': 'If'}, {'boundingBox': '289,141,23,10', 'text': 'you'}, {'boundingBox': '318,137,27,11', 'text': 'read'}, {'boundingBox': '351,137,24,11', 'text': 'this'}, {'boundingBox': '380,139,29,12', 'text': 'text,'}, {'boundingBox': '416,141,23,10', 'text': 'you'}, {'boundingBox': '444,137,23,11', 'text': 'will'}, {'boundingBox': '473,139,19,12', 'text': 'get'}, {'boundingBox': '498,141,15,7', 'text': 'no'}]}, {'boundingBox': '9,154,505,14', 'words': [{'boundingBox': '9,154,77,11', 'text': 'information.'}, {'boundingBox': '98,154,47,14', 'text': 'Really?'}, {'boundingBox': '156,154,11,11', 'text': 'Is'}, {'boundingBox': '173,154,33,11', 'text': 'there'}, {'boundingBox': '212,158,15,7', 'text': 'no'}, {'boundingBox': '234,154,80,11', 'text': 'information?'}, {'boundingBox': '326,154,10,11', 'text': 'Is'}, {'boundingBox': '343,154,32,11', 'text': 'there'}, {'boundingBox': '382,158,7,7', 'text': 'a'}, {'boundingBox': '395,154,60,11', 'text': 'difference'}, {'boundingBox': '462,154,52,11', 'text': 'between'}]}, {'boundingBox': '9,172,504,14', 'words': [{'boundingBox': '9,172,24,11', 'text': 'this'}, {'boundingBox': '38,174,25,9', 'text': 'text'}, {'boundingBox': '69,172,23,11', 'text': 'and'}, {'boundingBox': '97,176,32,7', 'text': 'some'}, {'boundingBox': '134,176,56,7', 'text': 'nonsense'}, {'boundingBox': '196,172,21,11', 'text': 'like'}, {'boundingBox': '223,172,57,11', 'text': 'Huardest'}, {'boundingBox': '286,172,54,14', 'text': 'gefburn?'}, {'boundingBox': '346,172,30,14', 'text': 'Kjift'}, {'boundingBox': '381,178,8,2', 'text': '—'}, {'boundingBox': '394,174,21,9', 'text': 'not'}, {'boundingBox': '420,174,13,9', 'text': 'at'}, {'boundingBox': '438,172,19,11', 'text': 'all!'}, {'boundingBox': '465,172,11,11', 'text': 'A'}, {'boundingBox': '481,172,32,11', 'text': 'blind'}]}, {'boundingBox': '9,189,504,14', 'words': [{'boundingBox': '9,191,25,9', 'text': 'text'}, {'boundingBox': '40,189,21,11', 'text': 'like'}, {'boundingBox': '66,189,24,11', 'text': 'this'}, {'boundingBox': '95,190,31,13', 'text': 'gives'}, {'boundingBox': '131,193,23,10', 'text': 'you'}, {'boundingBox': '159,189,74,11', 'text': 'information'}, {'boundingBox': '238,189,36,11', 'text': 'about'}, {'boundingBox': '280,189,20,11', 'text': 'the'}, {'boundingBox': '305,189,49,11', 'text': 'selected'}, {'boundingBox': '359,189,29,14', 'text': 'font,'}, {'boundingBox': '394,189,25,11', 'text': 'how'}, {'boundingBox': '424,189,20,11', 'text': 'the'}, {'boundingBox': '449,189,40,11', 'text': 'letters'}, {'boundingBox': '494,193,19,7', 'text': 'are'}]}, {'boundingBox': '9,207,244,14', 'words': [{'boundingBox': '9,208,46,10', 'text': 'written'}, {'boundingBox': '61,207,23,11', 'text': 'and'}, {'boundingBox': '89,211,15,7', 'text': 'an'}, {'boundingBox': '109,208,67,13', 'text': 'impression'}, {'boundingBox': '182,207,12,11', 'text': 'of'}, {'boundingBox': '198,207,20,11', 'text': 'the'}, {'boundingBox': '224,207,29,11', 'text': 'look.'}]}]}]}\n"
          ]
        }
      ]
    }
  ]
}